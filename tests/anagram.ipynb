{
 "cells": [
  {
   "cell_type": "code",
   "execution_count": 2,
   "metadata": {},
   "outputs": [],
   "source": [
    "import random\n",
    "import string\n",
    "\n",
    "def generate_long_word(length=100000):\n",
    "    return ''.join(random.choices(string.ascii_letters, k=length))\n",
    "\n",
    "# Generate a long word of 100000 characters\n",
    "long_word = generate_long_word()\n",
    "\n",
    "file = open(\"/Users/huguesdtankouo/Documents/OpenSource/problems/tests/data/anagram/good/long_word1.txt\", \"w\")\n",
    "file.write(long_word)\n",
    "file.close()\n",
    "\n",
    "file = open(\"/Users/huguesdtankouo/Documents/OpenSource/problems/tests/data/anagram/good/long_word2.txt\", \"w\")\n",
    "# Shuffle the characters of the long word\n",
    "file.write(''.join(random.sample(long_word, len(long_word))))\n",
    "file.close()"
   ]
  },
  {
   "cell_type": "code",
   "execution_count": null,
   "metadata": {},
   "outputs": [],
   "source": []
  }
 ],
 "metadata": {
  "kernelspec": {
   "display_name": ".venv",
   "language": "python",
   "name": "python3"
  },
  "language_info": {
   "codemirror_mode": {
    "name": "ipython",
    "version": 3
   },
   "file_extension": ".py",
   "mimetype": "text/x-python",
   "name": "python",
   "nbconvert_exporter": "python",
   "pygments_lexer": "ipython3",
   "version": "3.11.8"
  }
 },
 "nbformat": 4,
 "nbformat_minor": 2
}
